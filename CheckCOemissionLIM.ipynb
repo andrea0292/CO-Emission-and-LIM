{
 "cells": [
  {
   "cell_type": "code",
   "execution_count": 1,
   "metadata": {},
   "outputs": [],
   "source": [
    "import numpy as np\n",
    "import astropy.units as u\n",
    "from astropy.cosmology import Planck13 as cosmo\n",
    "from astropy import constants as const\n",
    "\n",
    "from scipy.interpolate import interp1d as i1d\n",
    "from scipy.interpolate import interp2d as i2d\n",
    "from scipy.special import legendre\n",
    "\n",
    "import camb\n",
    "\n",
    "import pickle\n",
    "\n",
    "from scipy.integrate import quad\n",
    "from scipy.integrate import fixed_quad\n",
    "from scipy.integrate import romberg\n",
    "\n",
    "import matplotlib.pyplot as plt\n",
    "import matplotlib.pylab as pylab\n",
    "\n",
    "from scipy.fft import fft,ifft\n",
    "import matplotlib.gridspec as gridspec\n",
    "from scipy.stats import poisson\n",
    "\n",
    "from classy import Class\n",
    "\n",
    "from scipy.interpolate import interp1d\n",
    "from scipy.interpolate import interp2d\n",
    "\n",
    "import powerbox as pbox\n",
    "\n",
    "import PoweSpectrumLine\n",
    "from PoweSpectrumLine import COpower"
   ]
  },
  {
   "cell_type": "markdown",
   "metadata": {},
   "source": [
    "Here we create an instance of Class; we will use the power spectrum. "
   ]
  },
  {
   "cell_type": "code",
   "execution_count": 7,
   "metadata": {},
   "outputs": [],
   "source": [
    "# create instance of the class \"Class\"\n",
    "LambdaCDM = Class()\n",
    "# pass input parameters\n",
    "m1=0.06/3\n",
    "m2=0 #0.06/3\n",
    "m3= 0 #0.06/3\n",
    "\n",
    "LambdaCDM.set({'N_ncdm':3})\n",
    "LambdaCDM.set({'m_ncdm':str(m1)+','+str(m2)+','+str(m3)})\n",
    "LambdaCDM.set({'omega_b':0.022032,'omega_cdm':0.12038,'h':0.67556,'A_s':2.215e-9,'n_s':0.9619,'tau_reio':0.0925})\n",
    "LambdaCDM.set({'output':'mPk','P_k_max_1/Mpc':100, 'z_max_pk':10.})\n",
    "# run class\n",
    "LambdaCDM.compute()"
   ]
  },
  {
   "cell_type": "markdown",
   "metadata": {},
   "source": [
    "We define a dectionary for the CO mission we are looking at."
   ]
  },
  {
   "cell_type": "code",
   "execution_count": 2,
   "metadata": {},
   "outputs": [],
   "source": [
    "CO= {\"tobs\": 6000 * u.hour ,\"z\": (115.271/30)- 1  ,\"beam\" : 4*u.arcmin,\"omega\" : 2.25*u.deg**2, \"nu\" : 115.271 * u.GHz,\"deltanu\" : 8 *u.GHz, \"nuObs\" : 30 * u.GHz, \"dnu\" : 7.324 *u.MHz, \"Ntot\" : 19}\n"
   ]
  },
  {
   "cell_type": "code",
   "execution_count": 3,
   "metadata": {},
   "outputs": [],
   "source": [
    "# create an instance of the class for computing Window Functions\n",
    "\n",
    "PSline = COpower()\n",
    "from PoweSpectrumLine import XLT"
   ]
  },
  {
   "cell_type": "markdown",
   "metadata": {},
   "source": [
    "Here I take the mass and luminosity array from LIM to compare with. I then use my function LTonyLy to compute my L and compare. "
   ]
  },
  {
   "cell_type": "code",
   "execution_count": 6,
   "metadata": {},
   "outputs": [],
   "source": [
    "Mlim_ary = np.loadtxt('/Users/andreacaputo/Desktop/Phd/lim-master 4/MlimGrid.dat')\n",
    "LCOlim_ary = np.loadtxt('/Users/andreacaputo/Desktop/Phd/lim-master 4/COLgrid.dat')\n"
   ]
  },
  {
   "cell_type": "code",
   "execution_count": 7,
   "metadata": {},
   "outputs": [],
   "source": [
    "L_ary = np.array([PSline.LTonyLy([m]*u.Msun, CO[\"z\"]).value for m in Mlim_ary])"
   ]
  },
  {
   "cell_type": "markdown",
   "metadata": {},
   "source": [
    "# Good agreement with LIM for the luminosity function"
   ]
  },
  {
   "cell_type": "markdown",
   "metadata": {},
   "source": [
    "Check the luminosity function for CO emission. "
   ]
  },
  {
   "cell_type": "code",
   "execution_count": 8,
   "metadata": {},
   "outputs": [
    {
     "data": {
      "text/plain": [
       "[]"
      ]
     },
     "execution_count": 8,
     "metadata": {},
     "output_type": "execute_result"
    },
    {
     "data": {
      "image/png": "[encoded data removed]",
      "text/plain": [
       "<Figure size 432x288 with 1 Axes>"
      ]
     },
     "metadata": {
      "needs_background": "light"
     },
     "output_type": "display_data"
    }
   ],
   "source": [
    "plt.plot(Mlim_ary, L_ary)\n",
    "plt.plot(Mlim_ary, LCOlim_ary)\n",
    "\n",
    "plt.axis([1e9,1e15, 1,1e7])\n",
    "\n",
    "plt.loglog()"
   ]
  },
  {
   "cell_type": "markdown",
   "metadata": {},
   "source": [
    "# Let's now check the multipoles "
   ]
  },
  {
   "cell_type": "code",
   "execution_count": 8,
   "metadata": {},
   "outputs": [],
   "source": [
    "def Pm(k,z):\n",
    "    return LambdaCDM.pk(k.value, z)\n",
    "\n",
    "mu_ary = np.linspace(-1,1)\n",
    "k_ary = 10**np.arange(-2,0, 0.1)"
   ]
  },
  {
   "cell_type": "markdown",
   "metadata": {},
   "source": [
    "We use the function \"MultipoleNoWmission\", that is to say, this function will give you back the monopole, quadropule and hexadecapole without applying any window function. You need to pass the value k at which you want to evaluate it, the array of $\\mu$ to do the integral, the power spectrum and the dictionary for the mission you are considerind (CO in this case)."
   ]
  },
  {
   "cell_type": "code",
   "execution_count": 21,
   "metadata": {},
   "outputs": [],
   "source": [
    "ary_multipoles = np.array([PSline.MultipoleNoWmission(k / u.Mpc , mu_ary, Pm(k/ u.Mpc, CO[\"z\"]), CO) for k in k_ary])\n",
    "\n"
   ]
  },
  {
   "cell_type": "code",
   "execution_count": null,
   "metadata": {},
   "outputs": [],
   "source": [
    "plt.plot(k_ary, 1e12 * ary_multipoles[:,0], label = 'monopole')\n",
    "plt.plot(k_ary, 1e12 * ary_multipoles[:,1], label = 'quadrupole')\n",
    "plt.plot(k_ary, 1e12 * ary_multipoles[:,2], label = 'hexadecapole')\n",
    "\n",
    "plt.loglog()"
   ]
  },
  {
   "cell_type": "code",
   "execution_count": null,
   "metadata": {},
   "outputs": [],
   "source": []
  }
 ],
 "metadata": {
  "kernelspec": {
   "display_name": "Python 3",
   "language": "python",
   "name": "python3"
  },
  "language_info": {
   "codemirror_mode": {
    "name": "ipython",
    "version": 3
   },
   "file_extension": ".py",
   "mimetype": "text/x-python",
   "name": "python",
   "nbconvert_exporter": "python",
   "pygments_lexer": "ipython3",
   "version": "3.7.2"
  }
 },
 "nbformat": 4,
 "nbformat_minor": 4
}
