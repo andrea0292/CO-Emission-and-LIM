{
 "cells": [
  {
   "cell_type": "code",
   "execution_count": 1,
   "metadata": {},
   "outputs": [],
   "source": [
    "import numpy as np\n",
    "import astropy.units as u\n",
    "from astropy.cosmology import Planck13 as cosmo\n",
    "from astropy import constants as const\n",
    "\n",
    "from scipy.interpolate import interp1d as i1d\n",
    "from scipy.interpolate import interp2d as i2d\n",
    "from scipy.special import legendre\n",
    "\n",
    "import camb\n",
    "\n",
    "import pickle\n",
    "\n",
    "from scipy.integrate import quad\n",
    "from scipy.integrate import fixed_quad\n",
    "from scipy.integrate import romberg\n",
    "\n",
    "import matplotlib.pyplot as plt\n",
    "import matplotlib.pylab as pylab\n",
    "\n",
    "from scipy.fft import fft,ifft\n",
    "import matplotlib.gridspec as gridspec\n",
    "from scipy.stats import poisson\n",
    "\n",
    "from classy import Class\n",
    "\n",
    "from scipy.interpolate import interp1d\n",
    "from scipy.interpolate import interp2d\n",
    "\n",
    "import powerbox as pbox\n",
    "\n"
   ]
  },
  {
   "cell_type": "code",
   "execution_count": 2,
   "metadata": {},
   "outputs": [],
   "source": [
    "# Creat an instance of the class for the VID computation\n",
    "\n",
    "import VID_CO\n",
    "from VID_CO import VIDco"
   ]
  },
  {
   "cell_type": "markdown",
   "metadata": {},
   "source": [
    "We define a dectionary for the CO mission we are looking at."
   ]
  },
  {
   "cell_type": "code",
   "execution_count": 3,
   "metadata": {},
   "outputs": [],
   "source": [
    "CO= {\"tobs\": 6000 * u.hour ,\"z\": (115.271/30)- 1  ,\"beam\" : 4*u.arcmin,\"omega\" : 2.25*u.deg**2, \"nu\" : 115.271 * u.GHz,\"deltanu\" : 8 *u.GHz, \"nuObs\" : 30 * u.GHz, \"dnu\" : 7.324 *u.MHz, \"Ntot\" : 19}\n"
   ]
  },
  {
   "cell_type": "markdown",
   "metadata": {},
   "source": [
    "The class I wrote contains many useful functions. For example the function $P_1(T) =\\Phi(T V_{vox}/X_{LT}) V_{vox}/\\bar{n} X_{LT}$, which is the probability of having a luminosity T in a voxel with only one emitter, that is to say with one galaxy. \n",
    "\n",
    "For the luminosity function we use a slightly modified Schechter function. We follow here arXiv.1609.01728. We start writing down a luminosity function. We use a Schechter function \n",
    "\n",
    "$dn/dL = \\phi^* * (L/L^*)^{\\alpha} * exp(-L/Lstar)$\n",
    "    \n",
    "where    $\\phi^*$ is the overall amplitude in $(Mpc/h)^{-3} L_{\\odot}^{-1}$, $L^*$ is the High-luminosity cutoff, $\\alpha$ is the power law slope and Lmin is the Minimum luminosity (hard cutoff)."
   ]
  },
  {
   "cell_type": "code",
   "execution_count": 3,
   "metadata": {},
   "outputs": [],
   "source": [
    "# create an instance of the class for computing VID\n",
    "\n",
    "vid = VIDco()"
   ]
  },
  {
   "cell_type": "code",
   "execution_count": 5,
   "metadata": {},
   "outputs": [
    {
     "data": {
      "text/latex": [
       "$5.7805307 \\; \\mathrm{Mpc^{3}}$"
      ],
      "text/plain": [
       "<Quantity 5.78053071 Mpc3>"
      ]
     },
     "execution_count": 5,
     "metadata": {},
     "output_type": "execute_result"
    }
   ],
   "source": [
    "vid.Vvox(6.25 * u.deg**2, 115.271*u.GHz, 32 * u.GHz, 3.56 * u.GHz,  np.ones(1) * 8.9 * u.MHz, 3*u.arcmin)\n"
   ]
  },
  {
   "cell_type": "code",
   "execution_count": 12,
   "metadata": {},
   "outputs": [
    {
     "data": {
      "text/plain": [
       "317492.6043111974"
      ]
     },
     "execution_count": 12,
     "metadata": {},
     "output_type": "execute_result"
    }
   ],
   "source": [
    "vid.P1(1e-6, CO[\"omega\"], CO[\"nu\"], CO[\"nuObs\"], CO[\"deltanu\"], np.ones(1) * CO[\"dnu\"], CO[\"beam\"])\n"
   ]
  },
  {
   "cell_type": "markdown",
   "metadata": {},
   "source": [
    "Then of course we need to take into account the case in which there are N sources in a given voxel. We assume that for each voxel there is an expectation value $\\mu$ for the number of galaxies, which depends on the value of the lognormal cosmic density field at that point. The observed number of galaxies within that voxel will then be a Poisson draw from a\n",
    "distribution with mean $\\mu$. \n",
    "\n",
    "The function \"PofN(sigmaG, Vvox, N)\" is for example the probability of observing a voxel with volume 'Vvox' that contains N sources."
   ]
  },
  {
   "cell_type": "code",
   "execution_count": 6,
   "metadata": {},
   "outputs": [
    {
     "data": {
      "text/plain": [
       "0.06385194541687148"
      ]
     },
     "execution_count": 6,
     "metadata": {},
     "output_type": "execute_result"
    }
   ],
   "source": [
    "vid.PofN(1.3, 5 , 2)"
   ]
  },
  {
   "cell_type": "markdown",
   "metadata": {},
   "source": [
    "We also have a function for the noise which is determined by the instrumental properties. We assume Gaussian noise \n",
    "\n",
    "$P_{N} = \\frac{1}{\\sqrt{2\\pi \\sigma_N^2}}exp^{-T^2/2\\sigma_N^2}$\n",
    "\n",
    "where $\\sigma_N$ is set by the survey sensitivity. The noise should then be convolved with the signal to get the final signal. The function \"Add_things\" take as input two arrays plus the steps in temperature and gives the convolved signal. \n"
   ]
  },
  {
   "cell_type": "markdown",
   "metadata": {},
   "source": [
    "# We do a plot here. The code it's pretty slow, it takes a lot to male a lot. Better to use LIM if you need to be fast :)"
   ]
  },
  {
   "cell_type": "code",
   "execution_count": 4,
   "metadata": {},
   "outputs": [],
   "source": [
    "tary_meN = np.linspace(1e-2,1e2, 800)"
   ]
  },
  {
   "cell_type": "code",
   "execution_count": 5,
   "metadata": {},
   "outputs": [],
   "source": [
    "noise_ary = vid.NoiseAry(tary_meN, 5.8)"
   ]
  },
  {
   "cell_type": "code",
   "execution_count": 6,
   "metadata": {},
   "outputs": [],
   "source": [
    "LIM_ary = np.array([vid.PnLIM(T, 4, 100, 6.25 * u.deg**2, 115 * u.GHz, 32 * u.GHz, 3.56 * u.GHz, np.ones(1) * 8.9 * u.MHz, 3 * u.arcmin) for T in tary_meN])\n",
    "P1_ary = np.array([1e-6 * vid.P1(T * 1e-6, 6.25 * u.deg**2, 115 * u.GHz, 32 * u.GHz, 3.56 * u.GHz, np.ones(1) * 8.9 * u.MHz, 3 * u.arcmin) for T in tary_meN])\n"
   ]
  },
  {
   "cell_type": "code",
   "execution_count": 8,
   "metadata": {},
   "outputs": [],
   "source": [
    "combined = vid.Add_things(noise_ary,P1_ary, tary_meN[1]- tary_meN[0])"
   ]
  },
  {
   "cell_type": "code",
   "execution_count": 11,
   "metadata": {},
   "outputs": [
    {
     "data": {
      "text/plain": [
       "<matplotlib.legend.Legend at 0x1a1f620048>"
      ]
     },
     "execution_count": 11,
     "metadata": {},
     "output_type": "execute_result"
    },
    {
     "data": {
      "image/png": "[encoded data removed]",
      "text/plain": [
       "<Figure size 432x288 with 1 Axes>"
      ]
     },
     "metadata": {
      "needs_background": "light"
     },
     "output_type": "display_data"
    }
   ],
   "source": [
    "gs = gridspec.GridSpec(1, 1,left=0.1,bottom=0.1,right=0.98,top=0.98)\n",
    "ax = plt.subplot(gs[0,0])\n",
    "\n",
    "\n",
    "plt.plot(tary_meN, LIM_ary, label = 'PN + LN', linestyle = 'dashed')\n",
    "plt.plot(tary_meN, P1_ary, label = 'P1 Signal', linestyle = 'dotted')\n",
    "\n",
    "plt.plot(tary_meN, noise_ary, label = 'Noise', linestyle = 'dotted', color = 'black')\n",
    "\n",
    "plt.plot(tary_meN, combined, label = 'Noise + Signal', linestyle = 'dotted', color = 'red')\n",
    "\n",
    "\n",
    "plt.loglog()\n",
    "\n",
    "ax.set_xlim(1e-2,4e2)\n",
    "ax.set_ylim(1e-5,1)\n",
    "\n",
    "plt.xlabel(r'$T(\\mu K)$')\n",
    "plt.ylabel(r'$\\mathcal{P}(T)$')\n",
    "\n",
    "\n",
    "plt.legend()"
   ]
  },
  {
   "cell_type": "code",
   "execution_count": null,
   "metadata": {},
   "outputs": [],
   "source": []
  }
 ],
 "metadata": {
  "kernelspec": {
   "display_name": "Python 3",
   "language": "python",
   "name": "python3"
  },
  "language_info": {
   "codemirror_mode": {
    "name": "ipython",
    "version": 3
   },
   "file_extension": ".py",
   "mimetype": "text/x-python",
   "name": "python",
   "nbconvert_exporter": "python",
   "pygments_lexer": "ipython3",
   "version": "3.7.2"
  }
 },
 "nbformat": 4,
 "nbformat_minor": 4
}
